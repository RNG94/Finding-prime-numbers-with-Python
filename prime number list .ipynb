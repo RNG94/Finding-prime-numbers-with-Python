{
 "cells": [
  {
   "cell_type": "code",
   "execution_count": 10,
   "id": "1ab722c2",
   "metadata": {},
   "outputs": [],
   "source": [
    "def prime(n):\n",
    "    n = int(n)\n",
    "    count = 0\n",
    "\n",
    "    for i in range(1, n):\n",
    "        if n % i == 0:\n",
    "            count += 1\n",
    "        else:\n",
    "            count += 0\n",
    "    if count == 1:\n",
    "        return n\n",
    "\n",
    "\n",
    "def primelist(n):\n",
    "    n = int(n)\n",
    "    prime_list = []\n",
    "\n",
    "    for i in range(1,int(n+1)):\n",
    "        if bool(prime(i)):\n",
    "            prime_list.append(i)\n",
    "    print(prime_list)"
   ]
  },
  {
   "cell_type": "code",
   "execution_count": 11,
   "id": "d7f19ca2",
   "metadata": {},
   "outputs": [
    {
     "name": "stdout",
     "output_type": "stream",
     "text": [
      "[2, 3, 5, 7, 11, 13, 17, 19, 23, 29, 31, 37, 41, 43, 47, 53, 59, 61, 67, 71, 73, 79, 83, 89, 97]\n"
     ]
    }
   ],
   "source": [
    "primelist(100)"
   ]
  },
  {
   "cell_type": "code",
   "execution_count": 12,
   "id": "8a83d749",
   "metadata": {},
   "outputs": [
    {
     "name": "stdout",
     "output_type": "stream",
     "text": [
      "[2, 3, 5, 7, 11, 13, 17, 19, 23, 29, 31, 37, 41, 43, 47, 53, 59, 61, 67, 71, 73, 79, 83, 89, 97, 101, 103, 107, 109, 113, 127, 131, 137, 139, 149]\n"
     ]
    }
   ],
   "source": [
    "primelist(150)"
   ]
  },
  {
   "cell_type": "code",
   "execution_count": 9,
   "id": "3c1bc5a5",
   "metadata": {},
   "outputs": [
    {
     "name": "stdout",
     "output_type": "stream",
     "text": [
      "[2, 3, 5, 7, 11, 13, 17, 19, 23, 29, 31, 37, 41, 43, 47, 53, 59, 61, 67, 71, 73, 79, 83, 89, 97]\n"
     ]
    }
   ],
   "source": [
    "def prime(n):\n",
    "    n = int(n)\n",
    "    count = 0\n",
    "\n",
    "    for i in range(1, n):\n",
    "        if n % i == 0:\n",
    "            count += 1\n",
    "        else:\n",
    "            count += 0\n",
    "    if count == 1:\n",
    "        return n\n",
    "    \n",
    "prime_list = []\n",
    "\n",
    "for i in range(1,101):\n",
    "    if bool(prime(i)):\n",
    "        prime_list.append(i)\n",
    "print(prime_list)"
   ]
  }
 ],
 "metadata": {
  "kernelspec": {
   "display_name": "Python 3 (ipykernel)",
   "language": "python",
   "name": "python3"
  },
  "language_info": {
   "codemirror_mode": {
    "name": "ipython",
    "version": 3
   },
   "file_extension": ".py",
   "mimetype": "text/x-python",
   "name": "python",
   "nbconvert_exporter": "python",
   "pygments_lexer": "ipython3",
   "version": "3.9.12"
  }
 },
 "nbformat": 4,
 "nbformat_minor": 5
}
